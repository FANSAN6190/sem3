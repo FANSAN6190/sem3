{
 "cells": [
  {
   "cell_type": "code",
   "execution_count": 3,
   "id": "1f77e78b",
   "metadata": {},
   "outputs": [],
   "source": [
    "def print_pairs(number_list):\n",
    "    num_iter=0;\n",
    "    n=len(number_list)\n",
    "    for i in range(n):\n",
    "        for j in range(n):\n",
    "            print(number_list[i],number_list[j])\n",
    "            num_iter+=1\n",
    "    print(\"Total iterations are %d\" % num_iter)\n",
    "    "
   ]
  },
  {
   "cell_type": "code",
   "execution_count": 4,
   "id": "9bef976a",
   "metadata": {},
   "outputs": [
    {
     "name": "stdout",
     "output_type": "stream",
     "text": [
      "123 123\n",
      "123 67\n",
      "67 123\n",
      "67 67\n",
      "Total iterations are 4\n"
     ]
    }
   ],
   "source": [
    "print_pairs([123,67])"
   ]
  },
  {
   "cell_type": "code",
   "execution_count": 11,
   "id": "98b64347",
   "metadata": {},
   "outputs": [],
   "source": [
    "def find_prime(lower,upper):\n",
    "    count=0;\n",
    "    for num in range(lower,upper):\n",
    "        for i in range(2,int(num/2)):\n",
    "            count+=1\n",
    "            if(num%i==0):\n",
    "                break\n",
    "        else:\n",
    "            print(num)\n",
    "    print(\"Total iteration ar %d\" % count)"
   ]
  },
  {
   "cell_type": "code",
   "execution_count": 13,
   "id": "3e7749a4",
   "metadata": {},
   "outputs": [
    {
     "name": "stdout",
     "output_type": "stream",
     "text": [
      "11\n",
      "13\n",
      "17\n",
      "19\n",
      "Total iteration ar 27\n"
     ]
    }
   ],
   "source": [
    "find_prime(10,20)"
   ]
  },
  {
   "cell_type": "code",
   "execution_count": null,
   "id": "f14d118d",
   "metadata": {},
   "outputs": [],
   "source": []
  },
  {
   "cell_type": "code",
   "execution_count": null,
   "id": "b8475407",
   "metadata": {},
   "outputs": [],
   "source": []
  },
  {
   "cell_type": "code",
   "execution_count": null,
   "id": "f793a2bb",
   "metadata": {},
   "outputs": [],
   "source": []
  }
 ],
 "metadata": {
  "kernelspec": {
   "display_name": "Python 3 (ipykernel)",
   "language": "python",
   "name": "python3"
  },
  "language_info": {
   "codemirror_mode": {
    "name": "ipython",
    "version": 3
   },
   "file_extension": ".py",
   "mimetype": "text/x-python",
   "name": "python",
   "nbconvert_exporter": "python",
   "pygments_lexer": "ipython3",
   "version": "3.9.7"
  }
 },
 "nbformat": 4,
 "nbformat_minor": 5
}
