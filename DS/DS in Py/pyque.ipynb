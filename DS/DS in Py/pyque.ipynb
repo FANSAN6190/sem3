{
 "cells": [
  {
   "cell_type": "code",
   "execution_count": 5,
   "id": "90253ff3",
   "metadata": {},
   "outputs": [],
   "source": [
    "class myquee:\n",
    "    def __init__(self):\n",
    "        self.items=[]\n",
    "    def is_empty(self):\n",
    "        return len(self.items)==0\n",
    "    def enqueue(self,item):\n",
    "        self.items.append(item)\n",
    "    def dequeue(self):\n",
    "        return self.items.pop(0)\n",
    "    def size(self):\n",
    "        return len(self.items)\n",
    "    def peek(self):\n",
    "        if self.is_empty():\n",
    "            raise Exception(\"Nothing to peek\")\n",
    "        return self.items[0]\n",
    "    "
   ]
  },
  {
   "cell_type": "code",
   "execution_count": 6,
   "id": "07300d91",
   "metadata": {},
   "outputs": [
    {
     "data": {
      "text/plain": [
       "<__main__.myquee at 0x7f9fe7388940>"
      ]
     },
     "execution_count": 6,
     "metadata": {},
     "output_type": "execute_result"
    }
   ],
   "source": [
    "ol=myquee()\n",
    "ol"
   ]
  },
  {
   "cell_type": "code",
   "execution_count": 13,
   "id": "20458b53",
   "metadata": {},
   "outputs": [],
   "source": [
    "ol.enqueue(\"Hello\")\n",
    "ol.enqueue(\"hii\")"
   ]
  },
  {
   "cell_type": "code",
   "execution_count": 14,
   "id": "b8e5874d",
   "metadata": {},
   "outputs": [
    {
     "data": {
      "text/plain": [
       "'Hello'"
      ]
     },
     "execution_count": 14,
     "metadata": {},
     "output_type": "execute_result"
    }
   ],
   "source": [
    "ol.peek()"
   ]
  },
  {
   "cell_type": "code",
   "execution_count": 11,
   "id": "55fdd4c5",
   "metadata": {},
   "outputs": [
    {
     "data": {
      "text/plain": [
       "'hii'"
      ]
     },
     "execution_count": 11,
     "metadata": {},
     "output_type": "execute_result"
    }
   ],
   "source": [
    "ol.dequeue()"
   ]
  },
  {
   "cell_type": "code",
   "execution_count": 15,
   "id": "5908e0b3",
   "metadata": {},
   "outputs": [
    {
     "data": {
      "text/plain": [
       "False"
      ]
     },
     "execution_count": 15,
     "metadata": {},
     "output_type": "execute_result"
    }
   ],
   "source": [
    "ol.is_empty()"
   ]
  },
  {
   "cell_type": "code",
   "execution_count": null,
   "id": "a62ddcbd",
   "metadata": {},
   "outputs": [],
   "source": []
  }
 ],
 "metadata": {
  "kernelspec": {
   "display_name": "Python 3 (ipykernel)",
   "language": "python",
   "name": "python3"
  },
  "language_info": {
   "codemirror_mode": {
    "name": "ipython",
    "version": 3
   },
   "file_extension": ".py",
   "mimetype": "text/x-python",
   "name": "python",
   "nbconvert_exporter": "python",
   "pygments_lexer": "ipython3",
   "version": "3.9.7"
  }
 },
 "nbformat": 4,
 "nbformat_minor": 5
}
